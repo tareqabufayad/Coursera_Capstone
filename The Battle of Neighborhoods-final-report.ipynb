{
 "cells": [
  {
   "cell_type": "markdown",
   "metadata": {},
   "source": [
    "# Capstone Project - The Battle of Neighborhoods - Final Report"
   ]
  },
  {
   "cell_type": "markdown",
   "metadata": {},
   "source": [
    "## Introduction and background\n",
    "\n",
    "New York city is largest city in the US. New York is also the most populated city in the country. According to the “worldpopulationreview.com” web site New York population in 2019 reached 19.88 million. With such a diverse population, people from all races live in the state of New York, and different ethnic identities have make a rich culture diversity in the city. \n",
    "\n",
    "New York officials reports that over 200 nationalities were be a part of New York. \n",
    "With its diverse culture and nationalities, comes diverse food dishes. There are many restaurants in New York city, each belongs to different race and ethnics like middle eastern, Italian, French, German, Chinese, Indian etc.   \n"
   ]
  },
  {
   "cell_type": "markdown",
   "metadata": {},
   "source": [
    "## Business Problem\n",
    "So, as for this project, we will search, explore and visualize all borough and neighborhoods that has great middle eastern food and dishes."
   ]
  },
  {
   "cell_type": "markdown",
   "metadata": {},
   "source": [
    "## Data Description\n",
    "We will use the following data sets for this capstone project:\n",
    " - New York city data sets that contains list of countries, neighborhoods along with their latitude and longitude\n",
    "    - Data Set: https://cocl.us/new_york_dataset\n",
    "    - Data Description: This data set is a json file contains boroughs and neighborhoods of New York city. We use this data to dive and explore different neighborhoods in New York city \n",
    "        \n",
    " - Foursquare API data\n",
    "   - Data Set: Foursquare API\n",
    "   - Data Description: we will use this Foursquare API to fetch all venues and places in each neighborhood. By filtering the results and get only middle eastern restaurants\n",
    "\n",
    "\n",
    "  - GeoSpace Data\n",
    "    - Data Set: https://data.cityofnewyork.us/City-Government/Borough-Boundaries/tqmj-j8zm\n",
    "    - Data Description: using this data to create a choropleth map New York borough boundary. This map will visualize the results of top middle east restaurants in New York neighborhoods  \n",
    "\n"
   ]
  },
  {
   "cell_type": "markdown",
   "metadata": {},
   "source": [
    "## How we will use the data (Our Approach or work methodology)\n",
    "The following steps shows our work flow:\n",
    "-\tFetching and storing the new York city data set from https://cocl.us/new_york_dataset\n",
    "-\tUsing API Foursquare to explore and find all Venus for each neighborhood\n",
    "-\tFiltering the API Foursquare results to contain only Middle east results\n",
    "-\tSearching for tips, ratings and likes using API Foursquare for each result\n",
    "-\tSorting the results by ratings, likes, tips and visualize these results using histogram or other suitable plotting techniques.\n",
    "-\tUse the Geospatial Data a Choropleth map to visualize the ranks of neighborhood using folium Python library   \n"
   ]
  },
  {
   "cell_type": "code",
   "execution_count": null,
   "metadata": {},
   "outputs": [],
   "source": []
  }
 ],
 "metadata": {
  "kernelspec": {
   "display_name": "Python 3",
   "language": "python",
   "name": "python3"
  },
  "language_info": {
   "codemirror_mode": {
    "name": "ipython",
    "version": 3
   },
   "file_extension": ".py",
   "mimetype": "text/x-python",
   "name": "python",
   "nbconvert_exporter": "python",
   "pygments_lexer": "ipython3",
   "version": "3.6.7"
  }
 },
 "nbformat": 4,
 "nbformat_minor": 2
}
