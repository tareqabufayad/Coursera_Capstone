{
 "cells": [
  {
   "cell_type": "code",
   "execution_count": 4,
   "metadata": {},
   "outputs": [
    {
     "name": "stdout",
     "output_type": "stream",
     "text": [
      "Libraries imported.\n"
     ]
    }
   ],
   "source": [
    "import pandas as pd\n",
    "import numpy as np\n",
    "pd.set_option('display.max_columns', None)\n",
    "pd.set_option('display.max_rows', None)\n",
    "import requests\n",
    "from bs4 import BeautifulSoup\n",
    "import geocoder\n",
    "import os\n",
    "import folium # map rendering library\n",
    "from geopy.geocoders import Nominatim # convert an address into latitude and longitude values\n",
    "# Matplotlib and associated plotting modules\n",
    "import matplotlib.pyplot as plt\n",
    "import matplotlib.cm as cm\n",
    "import matplotlib.colors as colors\n",
    "%matplotlib inline\n",
    "\n",
    "\n",
    "print('Libraries imported.')"
   ]
  },
  {
   "cell_type": "code",
   "execution_count": 4,
   "metadata": {},
   "outputs": [],
   "source": [
    "def geo_location(address):\n",
    "    # get geo location of address\n",
    "    geolocator = Nominatim(user_agent=\"ny_explorer\")\n",
    "    location = geolocator.geocode(address)\n",
    "    latitude = location.latitude\n",
    "    longitude = location.longitude\n",
    "    return latitude,longitude"
   ]
  },
  {
   "cell_type": "code",
   "execution_count": 5,
   "metadata": {},
   "outputs": [],
   "source": [
    "def get_venues(lat,lng):\n",
    "    \n",
    "    #set variables\n",
    "    radius=1000\n",
    "    LIMIT=100\n",
    "    CLIENT_ID = 'ME40SJAYZMUJZZLXLSVENPEMVUJNV2NHYCJQW4NWYOUYYILP' # your Foursquare ID\n",
    "    CLIENT_SECRET = 'RJAWTE4ZIWPSJRM21A1ECC15JU1IAQOCTHL1T0XTFLQGNMKW' # your Foursquare Secret\n",
    "    VERSION = '20180605' # Foursquare API version\n",
    "    \n",
    "    #url to fetch data from foursquare api\n",
    "    url = 'https://api.foursquare.com/v2/venues/explore?&client_id={}&client_secret={}&v={}&ll={},{}&radius={}&limit={}'.format(\n",
    "            CLIENT_ID, \n",
    "            CLIENT_SECRET, \n",
    "            VERSION, \n",
    "            lat, \n",
    "            lng, \n",
    "            radius, \n",
    "            LIMIT)\n",
    "    \n",
    "    # get all the data\n",
    "    results = requests.get(url).json()\n",
    "    venue_data=results[\"response\"]['groups'][0]['items']\n",
    "    venue_details=[]\n",
    "    for row in venue_data:\n",
    "        try:\n",
    "            venue_id=row['venue']['id']\n",
    "            venue_name=row['venue']['name']\n",
    "            venue_category=row['venue']['categories'][0]['name']\n",
    "            venue_details.append([venue_id,venue_name,venue_category])\n",
    "        except KeyError:\n",
    "            pass\n",
    "        \n",
    "    column_names=['ID','Name','Category']\n",
    "    df = pd.DataFrame(venue_details,columns=column_names)\n",
    "    return df"
   ]
  },
  {
   "cell_type": "code",
   "execution_count": 6,
   "metadata": {},
   "outputs": [],
   "source": [
    "def get_venue_details(venue_id):\n",
    "        \n",
    "    CLIENT_ID = 'ME40SJAYZMUJZZLXLSVENPEMVUJNV2NHYCJQW4NWYOUYYILP' # your Foursquare ID\n",
    "    CLIENT_SECRET = 'RJAWTE4ZIWPSJRM21A1ECC15JU1IAQOCTHL1T0XTFLQGNMKW' # your Foursquare Secret\n",
    "    VERSION = '20180605' # Foursquare API version\n",
    "    \n",
    "    #url to fetch data from foursquare api\n",
    "    url = 'https://api.foursquare.com/v2/venues/{}?&client_id={}&client_secret={}&v={}'.format(\n",
    "            venue_id,\n",
    "            CLIENT_ID, \n",
    "            CLIENT_SECRET, \n",
    "            VERSION)\n",
    "    \n",
    "    # get all the data\n",
    "    results = requests.get(url).json()\n",
    "    venue_data=results['response']['venue']\n",
    "    venue_details=[]\n",
    "    try:\n",
    "        venue_id=venue_data['id']\n",
    "        venue_name=venue_data['name']\n",
    "        venue_likes=venue_data['likes']['count']\n",
    "        venue_rating=venue_data['rating']\n",
    "        venue_tips=venue_data['tips']['count']\n",
    "        venue_details.append([venue_id,venue_name,venue_likes,venue_rating,venue_tips])\n",
    "    except KeyError:\n",
    "        pass\n",
    "        \n",
    "    column_names=['ID','Name','Likes','Rating','Tips']\n",
    "    df = pd.DataFrame(venue_details,columns=column_names)\n",
    "    return df"
   ]
  },
  {
   "cell_type": "code",
   "execution_count": 7,
   "metadata": {},
   "outputs": [],
   "source": [
    "def get_new_york_data():\n",
    "    url='https://cocl.us/new_york_dataset'\n",
    "    resp=requests.get(url).json()\n",
    "    # all data is present in features label\n",
    "    features=resp['features']\n",
    "    \n",
    "    # define the dataframe columns\n",
    "    column_names = ['Borough', 'Neighborhood', 'Latitude', 'Longitude'] \n",
    "    # instantiate the dataframe\n",
    "    new_york_data = pd.DataFrame(columns=column_names)\n",
    "    \n",
    "    for data in features:\n",
    "        borough = data['properties']['borough'] \n",
    "        neighborhood_name = data['properties']['name']\n",
    "        \n",
    "        neighborhood_latlon = data['geometry']['coordinates']\n",
    "        neighborhood_lat = neighborhood_latlon[1]\n",
    "        neighborhood_lon = neighborhood_latlon[0]\n",
    "    \n",
    "        new_york_data = new_york_data.append({'Borough': borough,\n",
    "                                          'Neighborhood': neighborhood_name,\n",
    "                                          'Latitude': neighborhood_lat,\n",
    "                                          'Longitude': neighborhood_lon}, ignore_index=True)\n",
    "    \n",
    "    return new_york_data"
   ]
  },
  {
   "cell_type": "code",
   "execution_count": 8,
   "metadata": {},
   "outputs": [],
   "source": [
    "new_york_data=get_new_york_data()"
   ]
  },
  {
   "cell_type": "code",
   "execution_count": 47,
   "metadata": {},
   "outputs": [],
   "source": [
    "new_york_data = pd.read_csv('data sets\\\\new_york_data.csv')\n",
    "middle_eastern_ny_rest = pd.read_csv('data sets\\\\middle_eastern_ny_rest.csv')\n",
    "middle_eastern_rest_stats_ny = pd.read_csv('data sets\\\\middle_eastern_rest_stats_ny.csv')"
   ]
  },
  {
   "cell_type": "code",
   "execution_count": 7,
   "metadata": {},
   "outputs": [
    {
     "data": {
      "text/html": [
       "<div>\n",
       "<style scoped>\n",
       "    .dataframe tbody tr th:only-of-type {\n",
       "        vertical-align: middle;\n",
       "    }\n",
       "\n",
       "    .dataframe tbody tr th {\n",
       "        vertical-align: top;\n",
       "    }\n",
       "\n",
       "    .dataframe thead th {\n",
       "        text-align: right;\n",
       "    }\n",
       "</style>\n",
       "<table border=\"1\" class=\"dataframe\">\n",
       "  <thead>\n",
       "    <tr style=\"text-align: right;\">\n",
       "      <th></th>\n",
       "      <th>Borough</th>\n",
       "      <th>Neighborhood</th>\n",
       "      <th>Latitude</th>\n",
       "      <th>Longitude</th>\n",
       "    </tr>\n",
       "  </thead>\n",
       "  <tbody>\n",
       "    <tr>\n",
       "      <th>0</th>\n",
       "      <td>Bronx</td>\n",
       "      <td>Wakefield</td>\n",
       "      <td>40.894705</td>\n",
       "      <td>-73.847201</td>\n",
       "    </tr>\n",
       "    <tr>\n",
       "      <th>1</th>\n",
       "      <td>Bronx</td>\n",
       "      <td>Co-op City</td>\n",
       "      <td>40.874294</td>\n",
       "      <td>-73.829939</td>\n",
       "    </tr>\n",
       "    <tr>\n",
       "      <th>2</th>\n",
       "      <td>Bronx</td>\n",
       "      <td>Eastchester</td>\n",
       "      <td>40.887556</td>\n",
       "      <td>-73.827806</td>\n",
       "    </tr>\n",
       "    <tr>\n",
       "      <th>3</th>\n",
       "      <td>Bronx</td>\n",
       "      <td>Fieldston</td>\n",
       "      <td>40.895437</td>\n",
       "      <td>-73.905643</td>\n",
       "    </tr>\n",
       "    <tr>\n",
       "      <th>4</th>\n",
       "      <td>Bronx</td>\n",
       "      <td>Riverdale</td>\n",
       "      <td>40.890834</td>\n",
       "      <td>-73.912585</td>\n",
       "    </tr>\n",
       "  </tbody>\n",
       "</table>\n",
       "</div>"
      ],
      "text/plain": [
       "  Borough Neighborhood   Latitude  Longitude\n",
       "0   Bronx    Wakefield  40.894705 -73.847201\n",
       "1   Bronx   Co-op City  40.874294 -73.829939\n",
       "2   Bronx  Eastchester  40.887556 -73.827806\n",
       "3   Bronx    Fieldston  40.895437 -73.905643\n",
       "4   Bronx    Riverdale  40.890834 -73.912585"
      ]
     },
     "execution_count": 7,
     "metadata": {},
     "output_type": "execute_result"
    }
   ],
   "source": [
    "new_york_data.head()"
   ]
  },
  {
   "cell_type": "code",
   "execution_count": 10,
   "metadata": {},
   "outputs": [
    {
     "data": {
      "text/plain": [
       "(306, 4)"
      ]
     },
     "execution_count": 10,
     "metadata": {},
     "output_type": "execute_result"
    }
   ],
   "source": [
    "new_york_data.shape"
   ]
  },
  {
   "cell_type": "code",
   "execution_count": 9,
   "metadata": {},
   "outputs": [
    {
     "data": {
      "image/png": "[encoded data removed]",
      "text/plain": [
       "<Figure size 900x500 with 1 Axes>"
      ]
     },
     "metadata": {
      "needs_background": "light"
     },
     "output_type": "display_data"
    }
   ],
   "source": [
    "\n",
    "plt.figure(figsize=(9,5), dpi = 100)\n",
    "# title\n",
    "plt.title('Number of Neighborhood for each Borough in New York City')\n",
    "#On x-axis\n",
    "plt.xlabel('No.of Neighborhood', fontsize = 15)\n",
    "#On y-axis\n",
    "plt.ylabel('Borough', fontsize=15)\n",
    "#giving a bar plot\n",
    "new_york_data.groupby('Borough')['Neighborhood'].count().plot(kind='barh')\n",
    "#legend\n",
    "plt.legend()\n",
    "#displays the plot\n",
    "plt.show()"
   ]
  },
  {
   "cell_type": "code",
   "execution_count": null,
   "metadata": {},
   "outputs": [],
   "source": [
    "# prepare neighborhood list that contains middle eastern resturants\n",
    "column_names=['Borough', 'Neighborhood', 'ID','Name']\n",
    "middle_eastern_ny_rest=pd.DataFrame(columns=column_names)\n",
    "count=1\n",
    "for row in new_york_data.values.tolist():\n",
    "    Borough, Neighborhood, Latitude, Longitude=row\n",
    "    venues = get_venues(Latitude,Longitude)\n",
    "    middle_eastern_resturants=venues[venues['Category']=='Middle Eastern Restaurant']   \n",
    "    print('(',count,'/',len(new_york_data),')','Middle Eastern Resturants in '+Neighborhood+', '+Borough+':'+str(len(middle_eastern_resturants)))\n",
    "    for resturant_detail in middle_eastern_resturants.values.tolist():\n",
    "        id, name , category=resturant_detail\n",
    "        middle_eastern_ny_rest = middle_eastern_ny_rest.append({'Borough': Borough,\n",
    "                                                'Neighborhood': Neighborhood, \n",
    "                                                'ID': id,\n",
    "                                                'Name' : name\n",
    "                                               }, ignore_index=True)\n",
    "    count+=1"
   ]
  },
  {
   "cell_type": "code",
   "execution_count": 10,
   "metadata": {},
   "outputs": [
    {
     "data": {
      "text/html": [
       "<div>\n",
       "<style scoped>\n",
       "    .dataframe tbody tr th:only-of-type {\n",
       "        vertical-align: middle;\n",
       "    }\n",
       "\n",
       "    .dataframe tbody tr th {\n",
       "        vertical-align: top;\n",
       "    }\n",
       "\n",
       "    .dataframe thead th {\n",
       "        text-align: right;\n",
       "    }\n",
       "</style>\n",
       "<table border=\"1\" class=\"dataframe\">\n",
       "  <thead>\n",
       "    <tr style=\"text-align: right;\">\n",
       "      <th></th>\n",
       "      <th>Borough</th>\n",
       "      <th>Neighborhood</th>\n",
       "      <th>ID</th>\n",
       "      <th>Name</th>\n",
       "    </tr>\n",
       "  </thead>\n",
       "  <tbody>\n",
       "    <tr>\n",
       "      <th>0</th>\n",
       "      <td>Bronx</td>\n",
       "      <td>Morris Heights</td>\n",
       "      <td>4b298f71f964a520eba024e3</td>\n",
       "      <td>Golan Heights</td>\n",
       "    </tr>\n",
       "    <tr>\n",
       "      <th>1</th>\n",
       "      <td>Brooklyn</td>\n",
       "      <td>Bay Ridge</td>\n",
       "      <td>4b6785d6f964a520aa532be3</td>\n",
       "      <td>Karam</td>\n",
       "    </tr>\n",
       "    <tr>\n",
       "      <th>2</th>\n",
       "      <td>Brooklyn</td>\n",
       "      <td>Bay Ridge</td>\n",
       "      <td>58bee70d5804ea784f84ad53</td>\n",
       "      <td>Ruzana</td>\n",
       "    </tr>\n",
       "    <tr>\n",
       "      <th>3</th>\n",
       "      <td>Brooklyn</td>\n",
       "      <td>Manhattan Terrace</td>\n",
       "      <td>4cd2f57125ee6dcb7054470f</td>\n",
       "      <td>Aksaray Gyro</td>\n",
       "    </tr>\n",
       "    <tr>\n",
       "      <th>4</th>\n",
       "      <td>Brooklyn</td>\n",
       "      <td>Flatbush</td>\n",
       "      <td>4d90d33b5091a1cdf601c401</td>\n",
       "      <td>Gyro King</td>\n",
       "    </tr>\n",
       "  </tbody>\n",
       "</table>\n",
       "</div>"
      ],
      "text/plain": [
       "    Borough       Neighborhood                        ID           Name\n",
       "0     Bronx     Morris Heights  4b298f71f964a520eba024e3  Golan Heights\n",
       "1  Brooklyn          Bay Ridge  4b6785d6f964a520aa532be3          Karam\n",
       "2  Brooklyn          Bay Ridge  58bee70d5804ea784f84ad53         Ruzana\n",
       "3  Brooklyn  Manhattan Terrace  4cd2f57125ee6dcb7054470f   Aksaray Gyro\n",
       "4  Brooklyn           Flatbush  4d90d33b5091a1cdf601c401      Gyro King"
      ]
     },
     "execution_count": 10,
     "metadata": {},
     "output_type": "execute_result"
    }
   ],
   "source": [
    "middle_eastern_ny_rest.head()"
   ]
  },
  {
   "cell_type": "code",
   "execution_count": 11,
   "metadata": {},
   "outputs": [
    {
     "data": {
      "text/plain": [
       "(69, 4)"
      ]
     },
     "execution_count": 11,
     "metadata": {},
     "output_type": "execute_result"
    }
   ],
   "source": [
    "middle_eastern_ny_rest.shape"
   ]
  },
  {
   "cell_type": "code",
   "execution_count": 13,
   "metadata": {},
   "outputs": [
    {
     "data": {
      "image/png": "[encoded data removed]",
      "text/plain": [
       "<Figure size 900x500 with 1 Axes>"
      ]
     },
     "metadata": {
      "needs_background": "light"
     },
     "output_type": "display_data"
    }
   ],
   "source": [
    "plt.figure(figsize=(9,5), dpi = 100)\n",
    "# title\n",
    "plt.title('Number of Middle Eastern Resturants for each Borough in New York City')\n",
    "#On x-axis\n",
    "plt.xlabel('No.of Middle Eastern Resturants', fontsize = 15)\n",
    "#On y-axis\n",
    "plt.ylabel('Borough', fontsize=15)\n",
    "#giving a bar plot\n",
    "middle_eastern_ny_rest.groupby('Borough')['ID'].count().plot(kind='barh')\n",
    "#legend\n",
    "plt.legend()\n",
    "#displays the plot\n",
    "plt.show()"
   ]
  },
  {
   "cell_type": "code",
   "execution_count": 15,
   "metadata": {},
   "outputs": [
    {
     "data": {
      "image/png": "[encoded data removed]",
      "text/plain": [
       "<Figure size 900x500 with 1 Axes>"
      ]
     },
     "metadata": {
      "needs_background": "light"
     },
     "output_type": "display_data"
    }
   ],
   "source": [
    "plt.figure(figsize=(9,5), dpi = 100)\n",
    "# title\n",
    "plt.title('Number of Middle Eastern Resturants for each Neighborhood in New York City')\n",
    "#On x-axis\n",
    "plt.xlabel('No.of Middle Eastern Resturants', fontsize = 15)\n",
    "#On y-axis\n",
    "plt.ylabel('Neighborhood', fontsize=15)\n",
    "#giving a bar plot\n",
    "middle_eastern_ny_rest.groupby('Neighborhood')['ID'].count().nlargest(5).plot(kind='barh')\n",
    "#legend\n",
    "plt.legend()\n",
    "#displays the plot\n",
    "plt.show()"
   ]
  },
  {
   "cell_type": "code",
   "execution_count": 45,
   "metadata": {},
   "outputs": [
    {
     "data": {
      "text/html": [
       "<div>\n",
       "<style scoped>\n",
       "    .dataframe tbody tr th:only-of-type {\n",
       "        vertical-align: middle;\n",
       "    }\n",
       "\n",
       "    .dataframe tbody tr th {\n",
       "        vertical-align: top;\n",
       "    }\n",
       "\n",
       "    .dataframe thead th {\n",
       "        text-align: right;\n",
       "    }\n",
       "</style>\n",
       "<table border=\"1\" class=\"dataframe\">\n",
       "  <thead>\n",
       "    <tr style=\"text-align: right;\">\n",
       "      <th></th>\n",
       "      <th>Borough</th>\n",
       "      <th>Neighborhood</th>\n",
       "      <th>ID</th>\n",
       "      <th>Name</th>\n",
       "    </tr>\n",
       "  </thead>\n",
       "  <tbody>\n",
       "    <tr>\n",
       "      <th>36</th>\n",
       "      <td>Queens</td>\n",
       "      <td>Astoria</td>\n",
       "      <td>4ba58abaf964a520d01039e3</td>\n",
       "      <td>Al-sham Sweets and Pastries</td>\n",
       "    </tr>\n",
       "    <tr>\n",
       "      <th>37</th>\n",
       "      <td>Queens</td>\n",
       "      <td>Astoria</td>\n",
       "      <td>578837cecd108caad4364993</td>\n",
       "      <td>King of Falafel and Shawarma</td>\n",
       "    </tr>\n",
       "    <tr>\n",
       "      <th>38</th>\n",
       "      <td>Queens</td>\n",
       "      <td>Astoria</td>\n",
       "      <td>4276bf00f964a5208e211fe3</td>\n",
       "      <td>Mombar</td>\n",
       "    </tr>\n",
       "    <tr>\n",
       "      <th>39</th>\n",
       "      <td>Queens</td>\n",
       "      <td>Astoria</td>\n",
       "      <td>4b726a56f964a520467a2de3</td>\n",
       "      <td>Halal Sandwich Shop</td>\n",
       "    </tr>\n",
       "  </tbody>\n",
       "</table>\n",
       "</div>"
      ],
      "text/plain": [
       "   Borough Neighborhood                        ID  \\\n",
       "36  Queens      Astoria  4ba58abaf964a520d01039e3   \n",
       "37  Queens      Astoria  578837cecd108caad4364993   \n",
       "38  Queens      Astoria  4276bf00f964a5208e211fe3   \n",
       "39  Queens      Astoria  4b726a56f964a520467a2de3   \n",
       "\n",
       "                            Name  \n",
       "36   Al-sham Sweets and Pastries  \n",
       "37  King of Falafel and Shawarma  \n",
       "38                        Mombar  \n",
       "39           Halal Sandwich Shop  "
      ]
     },
     "execution_count": 45,
     "metadata": {},
     "output_type": "execute_result"
    }
   ],
   "source": [
    "middle_eastern_ny_rest[middle_eastern_ny_rest['Neighborhood']=='Astoria']"
   ]
  },
  {
   "cell_type": "code",
   "execution_count": null,
   "metadata": {},
   "outputs": [],
   "source": [
    "# prepare neighborhood list that contains middle eastern resturants\n",
    "column_names=['Borough', 'Neighborhood', 'ID','Name','Likes','Rating','Tips']\n",
    "middle_eastern_rest_stats_ny=pd.DataFrame(columns=column_names)\n",
    "count=1\n",
    "\n",
    "\n",
    "for row in middle_eastern_ny_rest.values.tolist():\n",
    "    Borough,Neighborhood,ID,Name=row\n",
    "    try:\n",
    "        venue_details=get_venue_details(ID)\n",
    "        print(venue_details)\n",
    "        id,name,likes,rating,tips=venue_details.values.tolist()[0]\n",
    "    except IndexError:\n",
    "        print('No data available for id=',ID)\n",
    "        # we will assign 0 value for these resturants as they may have been \n",
    "        #recently opened or details does not exist in FourSquare Database\n",
    "        id,name,likes,rating,tips=[0]*5\n",
    "    print('(',count,'/',len(middle_eastern_ny_rest),')','processed')\n",
    "    middle_eastern_rest_stats_ny = middle_eastern_rest_stats_ny.append({'Borough': Borough,\n",
    "                                                'Neighborhood': Neighborhood, \n",
    "                                                'ID': id,\n",
    "                                                'Name' : name,\n",
    "                                                'Likes' : likes,\n",
    "                                                'Rating' : rating,\n",
    "                                                'Tips' : tips\n",
    "                                               }, ignore_index=True)\n",
    "    count+=1"
   ]
  },
  {
   "cell_type": "code",
   "execution_count": 55,
   "metadata": {},
   "outputs": [
    {
     "data": {
      "text/plain": [
       "(50, 7)"
      ]
     },
     "execution_count": 55,
     "metadata": {},
     "output_type": "execute_result"
    }
   ],
   "source": [
    "middle_eastern_rest_stats_ny.shape"
   ]
  },
  {
   "cell_type": "code",
   "execution_count": 56,
   "metadata": {},
   "outputs": [
    {
     "data": {
      "text/plain": [
       "(69, 4)"
      ]
     },
     "execution_count": 56,
     "metadata": {},
     "output_type": "execute_result"
    }
   ],
   "source": [
    "middle_eastern_ny_rest.shape"
   ]
  },
  {
   "cell_type": "code",
   "execution_count": 57,
   "metadata": {},
   "outputs": [],
   "source": [
    "middle_eastern_rest_stats_ny.to_csv('middle_eastern_rest_stats_ny.csv', index=False)"
   ]
  },
  {
   "cell_type": "code",
   "execution_count": 49,
   "metadata": {},
   "outputs": [],
   "source": [
    "middle_eastern_rest_stats_ny_csv=pd.read_csv('middle_eastern_rest_stats_ny.csv')"
   ]
  },
  {
   "cell_type": "code",
   "execution_count": 50,
   "metadata": {},
   "outputs": [
    {
     "data": {
      "text/plain": [
       "(50, 7)"
      ]
     },
     "execution_count": 50,
     "metadata": {},
     "output_type": "execute_result"
    }
   ],
   "source": [
    "middle_eastern_rest_stats_ny_csv.shape"
   ]
  },
  {
   "cell_type": "code",
   "execution_count": 51,
   "metadata": {},
   "outputs": [
    {
     "data": {
      "text/html": [
       "<div>\n",
       "<style scoped>\n",
       "    .dataframe tbody tr th:only-of-type {\n",
       "        vertical-align: middle;\n",
       "    }\n",
       "\n",
       "    .dataframe tbody tr th {\n",
       "        vertical-align: top;\n",
       "    }\n",
       "\n",
       "    .dataframe thead th {\n",
       "        text-align: right;\n",
       "    }\n",
       "</style>\n",
       "<table border=\"1\" class=\"dataframe\">\n",
       "  <thead>\n",
       "    <tr style=\"text-align: right;\">\n",
       "      <th></th>\n",
       "      <th>Borough</th>\n",
       "      <th>Neighborhood</th>\n",
       "      <th>ID</th>\n",
       "      <th>Name</th>\n",
       "      <th>Likes</th>\n",
       "      <th>Rating</th>\n",
       "      <th>Tips</th>\n",
       "    </tr>\n",
       "  </thead>\n",
       "  <tbody>\n",
       "    <tr>\n",
       "      <th>0</th>\n",
       "      <td>Bronx</td>\n",
       "      <td>Morris Heights</td>\n",
       "      <td>4b298f71f964a520eba024e3</td>\n",
       "      <td>Golan Heights</td>\n",
       "      <td>20</td>\n",
       "      <td>7.8</td>\n",
       "      <td>10</td>\n",
       "    </tr>\n",
       "    <tr>\n",
       "      <th>1</th>\n",
       "      <td>Brooklyn</td>\n",
       "      <td>Bay Ridge</td>\n",
       "      <td>4b6785d6f964a520aa532be3</td>\n",
       "      <td>Karam</td>\n",
       "      <td>66</td>\n",
       "      <td>8.8</td>\n",
       "      <td>36</td>\n",
       "    </tr>\n",
       "    <tr>\n",
       "      <th>2</th>\n",
       "      <td>Brooklyn</td>\n",
       "      <td>Bay Ridge</td>\n",
       "      <td>58bee70d5804ea784f84ad53</td>\n",
       "      <td>Ruzana</td>\n",
       "      <td>9</td>\n",
       "      <td>7.7</td>\n",
       "      <td>4</td>\n",
       "    </tr>\n",
       "    <tr>\n",
       "      <th>3</th>\n",
       "      <td>Brooklyn</td>\n",
       "      <td>Manhattan Terrace</td>\n",
       "      <td>4cd2f57125ee6dcb7054470f</td>\n",
       "      <td>Aksaray Gyro</td>\n",
       "      <td>12</td>\n",
       "      <td>7.3</td>\n",
       "      <td>1</td>\n",
       "    </tr>\n",
       "    <tr>\n",
       "      <th>4</th>\n",
       "      <td>Brooklyn</td>\n",
       "      <td>Flatbush</td>\n",
       "      <td>4d90d33b5091a1cdf601c401</td>\n",
       "      <td>Gyro King</td>\n",
       "      <td>12</td>\n",
       "      <td>7.7</td>\n",
       "      <td>6</td>\n",
       "    </tr>\n",
       "  </tbody>\n",
       "</table>\n",
       "</div>"
      ],
      "text/plain": [
       "    Borough       Neighborhood                        ID           Name  \\\n",
       "0     Bronx     Morris Heights  4b298f71f964a520eba024e3  Golan Heights   \n",
       "1  Brooklyn          Bay Ridge  4b6785d6f964a520aa532be3          Karam   \n",
       "2  Brooklyn          Bay Ridge  58bee70d5804ea784f84ad53         Ruzana   \n",
       "3  Brooklyn  Manhattan Terrace  4cd2f57125ee6dcb7054470f   Aksaray Gyro   \n",
       "4  Brooklyn           Flatbush  4d90d33b5091a1cdf601c401      Gyro King   \n",
       "\n",
       "   Likes  Rating  Tips  \n",
       "0     20     7.8    10  \n",
       "1     66     8.8    36  \n",
       "2      9     7.7     4  \n",
       "3     12     7.3     1  \n",
       "4     12     7.7     6  "
      ]
     },
     "execution_count": 51,
     "metadata": {},
     "output_type": "execute_result"
    }
   ],
   "source": [
    "middle_eastern_rest_stats_ny_csv.head()"
   ]
  },
  {
   "cell_type": "code",
   "execution_count": 61,
   "metadata": {},
   "outputs": [
    {
     "name": "stdout",
     "output_type": "stream",
     "text": [
      "<class 'pandas.core.frame.DataFrame'>\n",
      "RangeIndex: 50 entries, 0 to 49\n",
      "Data columns (total 7 columns):\n",
      "Borough         50 non-null object\n",
      "Neighborhood    50 non-null object\n",
      "ID              50 non-null object\n",
      "Name            50 non-null object\n",
      "Likes           50 non-null int64\n",
      "Rating          50 non-null float64\n",
      "Tips            50 non-null int64\n",
      "dtypes: float64(1), int64(2), object(4)\n",
      "memory usage: 2.8+ KB\n"
     ]
    }
   ],
   "source": [
    "middle_eastern_rest_stats_ny_csv.info()"
   ]
  },
  {
   "cell_type": "code",
   "execution_count": 62,
   "metadata": {},
   "outputs": [],
   "source": [
    "middle_eastern_rest_stats_ny['Likes']=middle_eastern_rest_stats_ny['Likes'].astype('float64')"
   ]
  },
  {
   "cell_type": "code",
   "execution_count": 63,
   "metadata": {},
   "outputs": [],
   "source": [
    "middle_eastern_rest_stats_ny['Tips']=middle_eastern_rest_stats_ny['Tips'].astype('float64')"
   ]
  },
  {
   "cell_type": "code",
   "execution_count": 64,
   "metadata": {},
   "outputs": [
    {
     "name": "stdout",
     "output_type": "stream",
     "text": [
      "<class 'pandas.core.frame.DataFrame'>\n",
      "RangeIndex: 50 entries, 0 to 49\n",
      "Data columns (total 7 columns):\n",
      "Borough         50 non-null object\n",
      "Neighborhood    50 non-null object\n",
      "ID              50 non-null object\n",
      "Name            50 non-null object\n",
      "Likes           50 non-null float64\n",
      "Rating          50 non-null float64\n",
      "Tips            50 non-null float64\n",
      "dtypes: float64(3), object(4)\n",
      "memory usage: 2.8+ KB\n"
     ]
    }
   ],
   "source": [
    "middle_eastern_rest_stats_ny.info()"
   ]
  },
  {
   "cell_type": "code",
   "execution_count": 65,
   "metadata": {},
   "outputs": [
    {
     "data": {
      "text/plain": [
       "Borough                        Manhattan\n",
       "Neighborhood           Greenwich Village\n",
       "ID              45a7dc66f964a52019411fe3\n",
       "Name                           12 Chairs\n",
       "Likes                                411\n",
       "Rating                               9.1\n",
       "Tips                                 132\n",
       "Name: 34, dtype: object"
      ]
     },
     "execution_count": 65,
     "metadata": {},
     "output_type": "execute_result"
    }
   ],
   "source": [
    "middle_eastern_rest_stats_ny.iloc[middle_eastern_rest_stats_ny['Likes'].idxmax()]"
   ]
  },
  {
   "cell_type": "code",
   "execution_count": 66,
   "metadata": {},
   "outputs": [
    {
     "data": {
      "text/plain": [
       "Borough                         Brooklyn\n",
       "Neighborhood            Brooklyn Heights\n",
       "ID              43eb685af964a520382f1fe3\n",
       "Name                          Yemen Cafe\n",
       "Likes                                324\n",
       "Rating                               9.1\n",
       "Tips                                  95\n",
       "Name: 11, dtype: object"
      ]
     },
     "execution_count": 66,
     "metadata": {},
     "output_type": "execute_result"
    }
   ],
   "source": [
    "middle_eastern_rest_stats_ny.iloc[middle_eastern_rest_stats_ny['Rating'].idxmax()]"
   ]
  },
  {
   "cell_type": "code",
   "execution_count": 67,
   "metadata": {},
   "outputs": [
    {
     "data": {
      "text/plain": [
       "Borough                        Manhattan\n",
       "Neighborhood           Greenwich Village\n",
       "ID              45a7dc66f964a52019411fe3\n",
       "Name                           12 Chairs\n",
       "Likes                                411\n",
       "Rating                               9.1\n",
       "Tips                                 132\n",
       "Name: 34, dtype: object"
      ]
     },
     "execution_count": 67,
     "metadata": {},
     "output_type": "execute_result"
    }
   ],
   "source": [
    "middle_eastern_rest_stats_ny.iloc[middle_eastern_rest_stats_ny['Tips'].idxmax()]"
   ]
  },
  {
   "cell_type": "code",
   "execution_count": 73,
   "metadata": {},
   "outputs": [],
   "source": [
    "ny_neighborhood_stats=middle_eastern_rest_stats_ny.groupby('Neighborhood',as_index=False).mean()[['Neighborhood','Rating']]\n",
    "ny_neighborhood_stats.columns=['Neighborhood','Average Rating']\n"
   ]
  },
  {
   "cell_type": "code",
   "execution_count": 30,
   "metadata": {},
   "outputs": [
    {
     "data": {
      "text/html": [
       "<div>\n",
       "<style scoped>\n",
       "    .dataframe tbody tr th:only-of-type {\n",
       "        vertical-align: middle;\n",
       "    }\n",
       "\n",
       "    .dataframe tbody tr th {\n",
       "        vertical-align: top;\n",
       "    }\n",
       "\n",
       "    .dataframe thead th {\n",
       "        text-align: right;\n",
       "    }\n",
       "</style>\n",
       "<table border=\"1\" class=\"dataframe\">\n",
       "  <thead>\n",
       "    <tr style=\"text-align: right;\">\n",
       "      <th></th>\n",
       "      <th>Neighborhood</th>\n",
       "      <th>Average Rating</th>\n",
       "    </tr>\n",
       "  </thead>\n",
       "  <tbody>\n",
       "    <tr>\n",
       "      <th>13</th>\n",
       "      <td>Greenwich Village</td>\n",
       "      <td>9.10</td>\n",
       "    </tr>\n",
       "    <tr>\n",
       "      <th>2</th>\n",
       "      <td>Boerum Hill</td>\n",
       "      <td>8.90</td>\n",
       "    </tr>\n",
       "    <tr>\n",
       "      <th>3</th>\n",
       "      <td>Brooklyn Heights</td>\n",
       "      <td>8.65</td>\n",
       "    </tr>\n",
       "    <tr>\n",
       "      <th>6</th>\n",
       "      <td>Cobble Hill</td>\n",
       "      <td>8.65</td>\n",
       "    </tr>\n",
       "    <tr>\n",
       "      <th>8</th>\n",
       "      <td>Downtown</td>\n",
       "      <td>8.45</td>\n",
       "    </tr>\n",
       "    <tr>\n",
       "      <th>24</th>\n",
       "      <td>Prospect Park South</td>\n",
       "      <td>8.40</td>\n",
       "    </tr>\n",
       "    <tr>\n",
       "      <th>21</th>\n",
       "      <td>Morningside Heights</td>\n",
       "      <td>8.40</td>\n",
       "    </tr>\n",
       "    <tr>\n",
       "      <th>30</th>\n",
       "      <td>Windsor Terrace</td>\n",
       "      <td>8.30</td>\n",
       "    </tr>\n",
       "    <tr>\n",
       "      <th>26</th>\n",
       "      <td>Sunnyside</td>\n",
       "      <td>8.30</td>\n",
       "    </tr>\n",
       "    <tr>\n",
       "      <th>1</th>\n",
       "      <td>Bay Ridge</td>\n",
       "      <td>8.25</td>\n",
       "    </tr>\n",
       "  </tbody>\n",
       "</table>\n",
       "</div>"
      ],
      "text/plain": [
       "           Neighborhood  Average Rating\n",
       "13    Greenwich Village            9.10\n",
       "2           Boerum Hill            8.90\n",
       "3      Brooklyn Heights            8.65\n",
       "6           Cobble Hill            8.65\n",
       "8              Downtown            8.45\n",
       "24  Prospect Park South            8.40\n",
       "21  Morningside Heights            8.40\n",
       "30      Windsor Terrace            8.30\n",
       "26            Sunnyside            8.30\n",
       "1             Bay Ridge            8.25"
      ]
     },
     "execution_count": 30,
     "metadata": {},
     "output_type": "execute_result"
    }
   ],
   "source": [
    "ny_neighborhood_stats.sort_values(['Average Rating'],ascending=False).head(10)"
   ]
  },
  {
   "cell_type": "code",
   "execution_count": 71,
   "metadata": {},
   "outputs": [],
   "source": [
    "\n",
    "ny_borough_stats=middle_eastern_rest_stats_ny.groupby('Borough',as_index=False).mean()[['Borough','Rating']]\n",
    "ny_borough_stats.columns=['Borough','Average Rating']\n"
   ]
  },
  {
   "cell_type": "code",
   "execution_count": 68,
   "metadata": {},
   "outputs": [
    {
     "data": {
      "text/html": [
       "<div>\n",
       "<style scoped>\n",
       "    .dataframe tbody tr th:only-of-type {\n",
       "        vertical-align: middle;\n",
       "    }\n",
       "\n",
       "    .dataframe tbody tr th {\n",
       "        vertical-align: top;\n",
       "    }\n",
       "\n",
       "    .dataframe thead th {\n",
       "        text-align: right;\n",
       "    }\n",
       "</style>\n",
       "<table border=\"1\" class=\"dataframe\">\n",
       "  <thead>\n",
       "    <tr style=\"text-align: right;\">\n",
       "      <th></th>\n",
       "      <th>Borough</th>\n",
       "      <th>Average Rating</th>\n",
       "    </tr>\n",
       "  </thead>\n",
       "  <tbody>\n",
       "    <tr>\n",
       "      <th>2</th>\n",
       "      <td>Manhattan</td>\n",
       "      <td>8.257143</td>\n",
       "    </tr>\n",
       "    <tr>\n",
       "      <th>0</th>\n",
       "      <td>Bronx</td>\n",
       "      <td>7.800000</td>\n",
       "    </tr>\n",
       "    <tr>\n",
       "      <th>1</th>\n",
       "      <td>Brooklyn</td>\n",
       "      <td>7.746429</td>\n",
       "    </tr>\n",
       "    <tr>\n",
       "      <th>3</th>\n",
       "      <td>Queens</td>\n",
       "      <td>7.607143</td>\n",
       "    </tr>\n",
       "  </tbody>\n",
       "</table>\n",
       "</div>"
      ],
      "text/plain": [
       "     Borough  Average Rating\n",
       "2  Manhattan        8.257143\n",
       "0      Bronx        7.800000\n",
       "1   Brooklyn        7.746429\n",
       "3     Queens        7.607143"
      ]
     },
     "execution_count": 68,
     "metadata": {},
     "output_type": "execute_result"
    }
   ],
   "source": [
    "ny_borough_stats.sort_values(['Average Rating'],ascending=False).head()"
   ]
  },
  {
   "cell_type": "code",
   "execution_count": 33,
   "metadata": {},
   "outputs": [
    {
     "data": {
      "image/png": "[encoded data removed]",
      "text/plain": [
       "<Figure size 900x400 with 1 Axes>"
      ]
     },
     "metadata": {
      "needs_background": "light"
     },
     "output_type": "display_data"
    }
   ],
   "source": [
    "plt.figure(figsize=(9,4), dpi = 100)\n",
    "# title\n",
    "plt.title('Average rating of Middle Eastern Resturants for each Borough')\n",
    "#On x-axis\n",
    "plt.xlabel('Average Rating', fontsize = 15)\n",
    "#On y-axis\n",
    "plt.ylabel('Borough', fontsize=15)\n",
    "#giving a bar plot\n",
    "middle_eastern_rest_stats_ny.groupby('Borough').mean()['Rating'].plot(kind='barh')\n",
    "#legend\n",
    "plt.legend(loc='upper right')\n",
    "#displays the plot\n",
    "plt.show()"
   ]
  },
  {
   "cell_type": "code",
   "execution_count": 34,
   "metadata": {},
   "outputs": [],
   "source": [
    "ny_neighborhood_stats=ny_neighborhood_stats[ny_neighborhood_stats['Average Rating']>=8.0]"
   ]
  },
  {
   "cell_type": "code",
   "execution_count": 81,
   "metadata": {},
   "outputs": [
    {
     "data": {
      "text/html": [
       "<div>\n",
       "<style scoped>\n",
       "    .dataframe tbody tr th:only-of-type {\n",
       "        vertical-align: middle;\n",
       "    }\n",
       "\n",
       "    .dataframe tbody tr th {\n",
       "        vertical-align: top;\n",
       "    }\n",
       "\n",
       "    .dataframe thead th {\n",
       "        text-align: right;\n",
       "    }\n",
       "</style>\n",
       "<table border=\"1\" class=\"dataframe\">\n",
       "  <thead>\n",
       "    <tr style=\"text-align: right;\">\n",
       "      <th></th>\n",
       "      <th>Neighborhood</th>\n",
       "      <th>Average Rating</th>\n",
       "      <th>Borough_x</th>\n",
       "      <th>Latitude_x</th>\n",
       "      <th>Longitude_x</th>\n",
       "      <th>Borough_y</th>\n",
       "      <th>Latitude_y</th>\n",
       "      <th>Longitude_y</th>\n",
       "    </tr>\n",
       "  </thead>\n",
       "  <tbody>\n",
       "    <tr>\n",
       "      <th>0</th>\n",
       "      <td>Astoria</td>\n",
       "      <td>8.00</td>\n",
       "      <td>Queens</td>\n",
       "      <td>40.768509</td>\n",
       "      <td>-73.915654</td>\n",
       "      <td>Queens</td>\n",
       "      <td>40.768509</td>\n",
       "      <td>-73.915654</td>\n",
       "    </tr>\n",
       "    <tr>\n",
       "      <th>1</th>\n",
       "      <td>Bay Ridge</td>\n",
       "      <td>8.25</td>\n",
       "      <td>Brooklyn</td>\n",
       "      <td>40.625801</td>\n",
       "      <td>-74.030621</td>\n",
       "      <td>Brooklyn</td>\n",
       "      <td>40.625801</td>\n",
       "      <td>-74.030621</td>\n",
       "    </tr>\n",
       "    <tr>\n",
       "      <th>2</th>\n",
       "      <td>Boerum Hill</td>\n",
       "      <td>8.90</td>\n",
       "      <td>Brooklyn</td>\n",
       "      <td>40.685683</td>\n",
       "      <td>-73.983748</td>\n",
       "      <td>Brooklyn</td>\n",
       "      <td>40.685683</td>\n",
       "      <td>-73.983748</td>\n",
       "    </tr>\n",
       "    <tr>\n",
       "      <th>3</th>\n",
       "      <td>Brooklyn Heights</td>\n",
       "      <td>8.65</td>\n",
       "      <td>Brooklyn</td>\n",
       "      <td>40.695864</td>\n",
       "      <td>-73.993782</td>\n",
       "      <td>Brooklyn</td>\n",
       "      <td>40.695864</td>\n",
       "      <td>-73.993782</td>\n",
       "    </tr>\n",
       "    <tr>\n",
       "      <th>4</th>\n",
       "      <td>Central Harlem</td>\n",
       "      <td>8.10</td>\n",
       "      <td>Manhattan</td>\n",
       "      <td>40.815976</td>\n",
       "      <td>-73.943211</td>\n",
       "      <td>Manhattan</td>\n",
       "      <td>40.815976</td>\n",
       "      <td>-73.943211</td>\n",
       "    </tr>\n",
       "  </tbody>\n",
       "</table>\n",
       "</div>"
      ],
      "text/plain": [
       "       Neighborhood  Average Rating  Borough_x  Latitude_x  Longitude_x  \\\n",
       "0           Astoria            8.00     Queens   40.768509   -73.915654   \n",
       "1         Bay Ridge            8.25   Brooklyn   40.625801   -74.030621   \n",
       "2       Boerum Hill            8.90   Brooklyn   40.685683   -73.983748   \n",
       "3  Brooklyn Heights            8.65   Brooklyn   40.695864   -73.993782   \n",
       "4    Central Harlem            8.10  Manhattan   40.815976   -73.943211   \n",
       "\n",
       "   Borough_y  Latitude_y  Longitude_y  \n",
       "0     Queens   40.768509   -73.915654  \n",
       "1   Brooklyn   40.625801   -74.030621  \n",
       "2   Brooklyn   40.685683   -73.983748  \n",
       "3   Brooklyn   40.695864   -73.993782  \n",
       "4  Manhattan   40.815976   -73.943211  "
      ]
     },
     "execution_count": 81,
     "metadata": {},
     "output_type": "execute_result"
    }
   ],
   "source": [
    "ny_neighborhood_stats.head()"
   ]
  },
  {
   "cell_type": "code",
   "execution_count": 82,
   "metadata": {},
   "outputs": [
    {
     "data": {
      "text/plain": [
       "(34, 8)"
      ]
     },
     "execution_count": 82,
     "metadata": {},
     "output_type": "execute_result"
    }
   ],
   "source": [
    "ny_neighborhood_stats.shape"
   ]
  },
  {
   "cell_type": "code",
   "execution_count": 83,
   "metadata": {},
   "outputs": [],
   "source": [
    "ny_neighborhood_stats=pd.merge(ny_neighborhood_stats,new_york_data, on='Neighborhood')"
   ]
  },
  {
   "cell_type": "code",
   "execution_count": 84,
   "metadata": {},
   "outputs": [],
   "source": [
    "ny_neighborhood_stats=ny_neighborhood_stats[['Borough','Neighborhood','Latitude','Longitude','Average Rating']]"
   ]
  },
  {
   "cell_type": "code",
   "execution_count": 86,
   "metadata": {},
   "outputs": [
    {
     "data": {
      "text/html": [
       "<div>\n",
       "<style scoped>\n",
       "    .dataframe tbody tr th:only-of-type {\n",
       "        vertical-align: middle;\n",
       "    }\n",
       "\n",
       "    .dataframe tbody tr th {\n",
       "        vertical-align: top;\n",
       "    }\n",
       "\n",
       "    .dataframe thead th {\n",
       "        text-align: right;\n",
       "    }\n",
       "</style>\n",
       "<table border=\"1\" class=\"dataframe\">\n",
       "  <thead>\n",
       "    <tr style=\"text-align: right;\">\n",
       "      <th></th>\n",
       "      <th>Borough</th>\n",
       "      <th>Neighborhood</th>\n",
       "      <th>Latitude</th>\n",
       "      <th>Longitude</th>\n",
       "      <th>Average Rating</th>\n",
       "    </tr>\n",
       "  </thead>\n",
       "  <tbody>\n",
       "    <tr>\n",
       "      <th>0</th>\n",
       "      <td>Queens</td>\n",
       "      <td>Astoria</td>\n",
       "      <td>40.768509</td>\n",
       "      <td>-73.915654</td>\n",
       "      <td>8.00</td>\n",
       "    </tr>\n",
       "    <tr>\n",
       "      <th>1</th>\n",
       "      <td>Brooklyn</td>\n",
       "      <td>Bay Ridge</td>\n",
       "      <td>40.625801</td>\n",
       "      <td>-74.030621</td>\n",
       "      <td>8.25</td>\n",
       "    </tr>\n",
       "    <tr>\n",
       "      <th>2</th>\n",
       "      <td>Brooklyn</td>\n",
       "      <td>Boerum Hill</td>\n",
       "      <td>40.685683</td>\n",
       "      <td>-73.983748</td>\n",
       "      <td>8.90</td>\n",
       "    </tr>\n",
       "    <tr>\n",
       "      <th>3</th>\n",
       "      <td>Brooklyn</td>\n",
       "      <td>Brooklyn Heights</td>\n",
       "      <td>40.695864</td>\n",
       "      <td>-73.993782</td>\n",
       "      <td>8.65</td>\n",
       "    </tr>\n",
       "    <tr>\n",
       "      <th>4</th>\n",
       "      <td>Manhattan</td>\n",
       "      <td>Central Harlem</td>\n",
       "      <td>40.815976</td>\n",
       "      <td>-73.943211</td>\n",
       "      <td>8.10</td>\n",
       "    </tr>\n",
       "  </tbody>\n",
       "</table>\n",
       "</div>"
      ],
      "text/plain": [
       "     Borough      Neighborhood   Latitude  Longitude  Average Rating\n",
       "0     Queens           Astoria  40.768509 -73.915654            8.00\n",
       "1   Brooklyn         Bay Ridge  40.625801 -74.030621            8.25\n",
       "2   Brooklyn       Boerum Hill  40.685683 -73.983748            8.90\n",
       "3   Brooklyn  Brooklyn Heights  40.695864 -73.993782            8.65\n",
       "4  Manhattan    Central Harlem  40.815976 -73.943211            8.10"
      ]
     },
     "execution_count": 86,
     "metadata": {},
     "output_type": "execute_result"
    }
   ],
   "source": [
    "ny_neighborhood_stats.head()"
   ]
  },
  {
   "cell_type": "code",
   "execution_count": 38,
   "metadata": {},
   "outputs": [
    {
     "data": {
      "text/plain": [
       "(17, 5)"
      ]
     },
     "execution_count": 38,
     "metadata": {},
     "output_type": "execute_result"
    }
   ],
   "source": [
    "ny_neighborhood_stats.shape"
   ]
  },
  {
   "cell_type": "code",
   "execution_count": 77,
   "metadata": {},
   "outputs": [],
   "source": [
    "# create map and display it\n",
    "ny_map = folium.Map(location=geo_location('New York'), zoom_start=12)"
   ]
  },
  {
   "cell_type": "code",
   "execution_count": 78,
   "metadata": {},
   "outputs": [],
   "source": [
    "\n",
    "# instantiate a feature group for the incidents in the dataframe\n",
    "incidents = folium.map.FeatureGroup()\n",
    "\n",
    "# loop through the 100 crimes and add each to the incidents feature group\n",
    "for lat, lng, in ny_neighborhood_stats[['Latitude','Longitude']].values:\n",
    "    incidents.add_child(\n",
    "        folium.CircleMarker(\n",
    "            [lat, lng],\n",
    "            radius=10, # define how big you want the circle markers to be\n",
    "            color='yellow',\n",
    "            fill=True,\n",
    "            fill_color='blue',\n",
    "            fill_opacity=0.6\n",
    "        )\n",
    "    )"
   ]
  },
  {
   "cell_type": "code",
   "execution_count": 79,
   "metadata": {},
   "outputs": [],
   "source": [
    "ny_neighborhood_stats['Label']=ny_neighborhood_stats['Neighborhood']+', '+ny_neighborhood_stats['Borough']+'('+ny_neighborhood_stats['Average Rating'].map(str)+')'"
   ]
  },
  {
   "cell_type": "code",
   "execution_count": 80,
   "metadata": {},
   "outputs": [
    {
     "data": {
      "text/html": [
       "<div style=\"width:100%;\"><div style=\"position:relative;width:100%;height:0;padding-bottom:60%;\"><iframe src=\"data:text/html;charset=utf-8;base64,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\" style=\"position:absolute;width:100%;height:100%;left:0;top:0;border:none !important;\" allowfullscreen webkitallowfullscreen mozallowfullscreen></iframe></div></div>"
      ],
      "text/plain": [
       "<folium.folium.Map at 0x252d65a7358>"
      ]
     },
     "execution_count": 80,
     "metadata": {},
     "output_type": "execute_result"
    }
   ],
   "source": [
    "# add pop-up text to each marker on the map\n",
    "for lat, lng, label in ny_neighborhood_stats[['Latitude','Longitude','Label']].values:\n",
    "    folium.Marker([lat, lng], popup=label).add_to(ny_map)        \n",
    "# add incidents to map\n",
    "ny_map.add_child(incidents)"
   ]
  },
  {
   "cell_type": "code",
   "execution_count": 81,
   "metadata": {},
   "outputs": [],
   "source": [
    "ny_map = folium.Map(location=geo_location('New York'), zoom_start=12)\n",
    "ny_geo = 'Borough Boundaries.geojson'\n",
    "\n",
    "ny_map.choropleth(\n",
    "    geo_data=ny_geo,\n",
    "    data=ny_borough_stats,\n",
    "    columns=['Borough', 'Average Rating'],\n",
    "    key_on='feature.properties.boro_name',\n",
    "    fill_color='YlOrRd', \n",
    "    fill_opacity=0.7, \n",
    "    line_opacity=0.2,\n",
    "    legend_name='Average Rating'\n",
    ")\n",
    "\n",
    "# display map\n",
    "# as this is huge map data , we will save it to a file\n",
    "ny_map.save('borough_rating.html')"
   ]
  },
  {
   "cell_type": "code",
   "execution_count": null,
   "metadata": {},
   "outputs": [],
   "source": []
  }
 ],
 "metadata": {
  "kernelspec": {
   "display_name": "Python 3",
   "language": "python",
   "name": "python3"
  },
  "language_info": {
   "codemirror_mode": {
    "name": "ipython",
    "version": 3
   },
   "file_extension": ".py",
   "mimetype": "text/x-python",
   "name": "python",
   "nbconvert_exporter": "python",
   "pygments_lexer": "ipython3",
   "version": "3.6.7"
  }
 },
 "nbformat": 4,
 "nbformat_minor": 2
}
